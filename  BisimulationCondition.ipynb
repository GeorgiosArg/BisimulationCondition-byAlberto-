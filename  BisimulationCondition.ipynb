{
 "cells": [
  {
   "cell_type": "code",
   "execution_count": 6,
   "id": "brave-yukon",
   "metadata": {},
   "outputs": [
    {
     "name": "stdout",
     "output_type": "stream",
     "text": [
      "Defaulting to user installation because normal site-packages is not writeable\r\n",
      "Requirement already satisfied: z3-solver in /home/user/.local/lib/python3.9/site-packages (4.12.1.0)\r\n"
     ]
    }
   ],
   "source": [
    "import biolqm\n",
    "import ginsim\n",
    "from colomoto import minibn\n",
    "from os import listdir\n",
    "import os\n",
    "from os.path import isfile, join\n",
    "!pip install z3-solver\n",
    "from z3 import *"
   ]
  },
  {
   "cell_type": "markdown",
   "id": "novel-token",
   "metadata": {},
   "source": [
    "## import the new functions"
   ]
  },
  {
   "cell_type": "markdown",
   "id": "effective-observer",
   "metadata": {},
   "source": [
    "(i) The first function inputs a BN in the format of minibn, and outputs a list of variables and a list of update functions in a format recognized by Z3py.\n",
    "\n",
    "\n",
    "(ii) The second function inputs (1) the original bn i.e. the list of variables (as strings) and the list of update functions (as strings) in the Z3py format, and (2) the size of the reduced BN. \n",
    "The function outputs .py file where the original BN is declared. The user may open the file and and optionally declare the aggregation functions: g0,g1, ...., or the functions in the reduced BN: h0, h1, ...., or both.\n",
    "\n",
    "(iii) The output of z3 is rough and not human-readable. We make it readable with the function pretty_printer."
   ]
  },
  {
   "cell_type": "code",
   "execution_count": null,
   "id": "numerous-provision",
   "metadata": {},
   "outputs": [],
   "source": []
  },
  {
   "cell_type": "code",
   "execution_count": 7,
   "id": "infinite-volleyball",
   "metadata": {},
   "outputs": [],
   "source": [
    "from mbn2str import *\n",
    "from synthesis import *\n",
    "from pretty_printing import *"
   ]
  },
  {
   "cell_type": "code",
   "execution_count": 8,
   "id": "amino-reviewer",
   "metadata": {},
   "outputs": [
    {
     "name": "stdout",
     "output_type": "stream",
     "text": [
      "AlbertosExample.bnet\r\n",
      "ErbB2_model.zginml\r\n",
      "FGF_Pathway_12Jun2013.zginml\r\n",
      "Hh__Pathway_11Jun2013_0.zginml\r\n",
      "MAPK_large_19june2013.zginml\r\n",
      "RodriguezJorge_Merged_TCR_TLR5_Signalling_BooleanModel_15Jul2018.zginml.bnet\r\n",
      "Spz__Processing_12Jun2013.zginml\r\n",
      "SuppMat_Model_Master_Model.zginml\r\n",
      "TCRsig40.zginml\r\n",
      "Toll_Pathway_12Jun2013.zginml\r\n",
      "VEGF_Pathway_12Jun2013_0.zginml\r\n",
      "boolean_cell_cycle.zginml\r\n",
      "buddingYeastIrons2009.zginml\r\n",
      "coupled_budding_yeast_CC.zginml\r\n",
      "mir9.bnet\r\n",
      "supp_mat.bnet\r\n",
      "system1.bnet\r\n",
      "system2.bnet\r\n",
      "system3.bnet\r\n",
      "system4.bnet\r\n",
      "system6.bnet\r\n",
      "system7.bnet\r\n",
      "system8.bnet\r\n",
      "thesis_example.bnet\r\n"
     ]
    }
   ],
   "source": [
    "ls models/"
   ]
  },
  {
   "cell_type": "code",
   "execution_count": null,
   "id": "working-smile",
   "metadata": {},
   "outputs": [],
   "source": []
  },
  {
   "cell_type": "markdown",
   "id": "adult-tissue",
   "metadata": {},
   "source": [
    "Here we load the BN"
   ]
  },
  {
   "cell_type": "code",
   "execution_count": 9,
   "id": "classified-postcard",
   "metadata": {},
   "outputs": [
    {
     "data": {
      "text/plain": [
       "Aop <- !Rl\n",
       "Cnk <- Cnk\n",
       "Drk <- Pvr\n",
       "Dsor1 <- Raf\n",
       "Ksr <- Ksr\n",
       "Msk <- Msk\n",
       "Pnt <- Rl\n",
       "Pvf1 <- Pvf1\n",
       "Pvf2 <- Pvf2\n",
       "Pvf3 <- Pvf3\n",
       "Pvr <- Pvf1|Pvf2|Pvf3\n",
       "Raf <- Cnk&Ksr&Ras&Src42\n",
       "Ras <- Sos&!Sty\n",
       "Rl <- Dsor1&Msk\n",
       "Sos <- Drk\n",
       "Src42 <- Src42\n",
       "Sty <- Sty\n",
       "Targets <- !Aop&Pnt"
      ]
     },
     "execution_count": 9,
     "metadata": {},
     "output_type": "execute_result"
    }
   ],
   "source": [
    "# We load a Boolean Network with minibn (or with biolqm and transform it to minibn)\n",
    "# bn = minibn.BooleanNetwork.load('models/mir9.bnet')\n",
    "# bn = biolqm.load('models/SuppMat_Model_Master_Model.zginml'); bn = biolqm.to_minibn(bn)\n",
    "# bn = biolqm.load('models/system1.bnet'); bn = biolqm.to_minibn(bn)\n",
    "bn = biolqm.load('models/VEGF_Pathway_12Jun2013_0.zginml'); bn = biolqm.to_minibn(bn)\n",
    "# bn = biolqm.load('models/TCRsig40.zginml'); bn = biolqm.to_minibn(bn)\n",
    "#print(bn,'The original BN has '+str(len(bn))+' variables:')\n",
    "# We obtain a list of the variables as strings and a list of the update functions as strings.\n",
    "# The list of functions is in z3py format\n",
    "variables,functions = mbn2str(bn)\n",
    "#print(variables,'\\n and the corresponding list of update functios is: \\n',functions)\n",
    "bn"
   ]
  },
  {
   "cell_type": "markdown",
   "id": "unlikely-walnut",
   "metadata": {},
   "source": [
    "Here we generate a file in .py format"
   ]
  },
  {
   "cell_type": "code",
   "execution_count": 10,
   "id": "viral-volunteer",
   "metadata": {},
   "outputs": [],
   "source": [
    "# We generate the z3.py code and store it to a .py file\n",
    "# size_reduced = 2 # the cardinality of G (|G|) which is also the number of variables in the reduced BN\n",
    "merged_variables = ['Pvf1', 'Pvf2', 'Pvf3']\n",
    "BN_synthesis = synthesis(variables,functions, merged_variables)\n",
    "text_file = open(\"/notebook/VEGF_Pathway_12Jun2013_0.py\", \"w\") # here the name of the file is system.py\n",
    "text_file.write(BN_synthesis)\n",
    "text_file.close()"
   ]
  },
  {
   "cell_type": "code",
   "execution_count": null,
   "id": "documentary-growing",
   "metadata": {},
   "outputs": [],
   "source": []
  },
  {
   "cell_type": "code",
   "execution_count": null,
   "id": "tribal-revision",
   "metadata": {},
   "outputs": [],
   "source": [
    "%run VEGF_Pathway_12Jun2013_0.py"
   ]
  },
  {
   "cell_type": "markdown",
   "id": "mediterranean-venue",
   "metadata": {},
   "source": [
    "Next we run the .py file that we generated with the BN_synthesis function system4.py here. The user may open the file and declare the aggregation functions or the reduced BN."
   ]
  },
  {
   "cell_type": "code",
   "execution_count": null,
   "id": "friendly-tender",
   "metadata": {},
   "outputs": [],
   "source": []
  },
  {
   "cell_type": "markdown",
   "id": "sustained-joining",
   "metadata": {},
   "source": [
    "Now the user shall interrupt the kernel by pushing the square button in the tool line (next to the run button).\n",
    "\n",
    "\n",
    "The script prints a solution to the problem (aka model in z3). This is stored in a variable $m$."
   ]
  },
  {
   "cell_type": "code",
   "execution_count": null,
   "id": "fatty-boulder",
   "metadata": {},
   "outputs": [],
   "source": []
  },
  {
   "cell_type": "markdown",
   "id": "compatible-found",
   "metadata": {},
   "source": [
    "The function pretty_printing inputs the list of variables of the original BN, and the model $m$ and outputs three dictionaries: the original bn, the aggregation functions and the reduced BN."
   ]
  },
  {
   "cell_type": "code",
   "execution_count": 13,
   "id": "fifty-trauma",
   "metadata": {},
   "outputs": [],
   "source": [
    "dict_original, dict_abstract, dict_aggregations = pretty_printing(variables,m)"
   ]
  },
  {
   "cell_type": "code",
   "execution_count": 14,
   "id": "delayed-accommodation",
   "metadata": {},
   "outputs": [
    {
     "data": {
      "text/plain": [
       "{'fx3': 'Or(And(x1,x2,Not(x3)),And(x1,x2,x3),And(x1,Not(x2),x3),And(Not(x1),x2,x3),And(Or(Not(x3),And(Not(x2),x3)),Not(x1)))',\n",
       " 'fx1': 'And(Or(And(x1,x3),And(Not(x1),x3),And(x1,Not(x3)),And(Not(x1),Not(x3))),Not(x2))',\n",
       " 'fx2': 'Or(And(x1,x2,Not(x3)),And(Not(x1),x2,x3),And(x1,Not(x2),Not(x3)),And(Not(x1),x2,Not(x3)),And(Not(x1),Not(x2),x3),And(Not(x1),Not(x2),Not(x3)))'}"
      ]
     },
     "execution_count": 14,
     "metadata": {},
     "output_type": "execute_result"
    }
   ],
   "source": [
    "dict_original"
   ]
  },
  {
   "cell_type": "code",
   "execution_count": 15,
   "id": "suited-cowboy",
   "metadata": {},
   "outputs": [
    {
     "data": {
      "text/plain": [
       "{'h': 'else->False', 'h0': '(True,False)->False,else->True'}"
      ]
     },
     "execution_count": 15,
     "metadata": {},
     "output_type": "execute_result"
    }
   ],
   "source": [
    "dict_abstract"
   ]
  },
  {
   "cell_type": "code",
   "execution_count": 16,
   "id": "professional-villa",
   "metadata": {},
   "outputs": [
    {
     "data": {
      "text/plain": [
       "{'gx3': 'And(Or(And(Not(x1),Not(x2)),And(x1,x2),And(Not(x1),x2),And(x1,Not(x2))),x3)',\n",
       " 'g': 'And(x1,Not(x2),Not(x3))'}"
      ]
     },
     "execution_count": 16,
     "metadata": {},
     "output_type": "execute_result"
    }
   ],
   "source": [
    "dict_aggregations"
   ]
  },
  {
   "cell_type": "code",
   "execution_count": null,
   "id": "fifth-bulgaria",
   "metadata": {},
   "outputs": [],
   "source": []
  },
  {
   "cell_type": "code",
   "execution_count": null,
   "id": "whole-thriller",
   "metadata": {},
   "outputs": [],
   "source": []
  },
  {
   "cell_type": "code",
   "execution_count": null,
   "id": "incorporate-ivory",
   "metadata": {},
   "outputs": [],
   "source": []
  },
  {
   "cell_type": "code",
   "execution_count": null,
   "id": "accompanied-broadcast",
   "metadata": {
    "scrolled": true
   },
   "outputs": [],
   "source": []
  },
  {
   "cell_type": "code",
   "execution_count": null,
   "id": "isolated-carter",
   "metadata": {},
   "outputs": [],
   "source": []
  },
  {
   "cell_type": "code",
   "execution_count": null,
   "id": "european-logan",
   "metadata": {},
   "outputs": [],
   "source": []
  },
  {
   "cell_type": "code",
   "execution_count": null,
   "id": "recovered-helicopter",
   "metadata": {},
   "outputs": [],
   "source": []
  }
 ],
 "metadata": {
  "kernelspec": {
   "display_name": "Python 3",
   "language": "python",
   "name": "python3"
  },
  "language_info": {
   "codemirror_mode": {
    "name": "ipython",
    "version": 3
   },
   "file_extension": ".py",
   "mimetype": "text/x-python",
   "name": "python",
   "nbconvert_exporter": "python",
   "pygments_lexer": "ipython3",
   "version": "3.9.1"
  }
 },
 "nbformat": 4,
 "nbformat_minor": 5
}
